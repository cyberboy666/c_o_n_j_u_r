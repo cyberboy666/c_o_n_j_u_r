{
 "cells": [
  {
   "cell_type": "code",
   "execution_count": 61,
   "metadata": {},
   "outputs": [],
   "source": [
    "from pythonosc import udp_client\n",
    "import time\n",
    "localhost = \"127.0.0.1\"\n",
    "port = 8000\n",
    "\n",
    "client = udp_client.SimpleUDPClient(localhost, port)\n",
    "# working\n",
    "gen_shader = 'shaders/hypnotic_rings.frag'\n",
    "vert_shader = 'shaders/shader.vert'\n",
    "client.send_message(\"/shader/0/load\", [vert_shader, gen_shader]) # proj_root + '/kaleidoscope.frag'])\n",
    "client.send_message(\"/shader/start\", True)\n",
    "client.send_message(\"/shader/0/is_active\", True)\n",
    "for i in range(4):\n",
    "    client.send_message(\"/shader/0/param\", [i, 0.8])\n",
    "    time.sleep(.2)"
   ]
  },
  {
   "cell_type": "code",
   "execution_count": 62,
   "metadata": {},
   "outputs": [],
   "source": [
    "# Working:\n",
    "one_input = 'shaders/line.frag'\n",
    "client.send_message(\"/shader/1/load\", [vert_shader, one_input])\n",
    "client.send_message(\"/shader/start\", True)\n",
    "client.send_message(\"/shader/1/is_active\", True)\n",
    "for i in range(4):\n",
    "    client.send_message(\"/shader/1/param\", [i, 0.8])\n",
    "    time.sleep(.2)"
   ]
  },
  {
   "cell_type": "code",
   "execution_count": 68,
   "metadata": {},
   "outputs": [],
   "source": [
    "two_input = 'shaders/wipe.frag'\n",
    "client.send_message(\"/shader/2/load\", [vert_shader, two_input])\n",
    "client.send_message(\"/shader/start\", True)\n",
    "client.send_message(\"/shader/2/is_active\", True)\n",
    "for i in range(4):\n",
    "    client.send_message(\"/shader/2/param\", [i, 100])\n",
    "    time.sleep(.2)"
   ]
  },
  {
   "cell_type": "code",
   "execution_count": 64,
   "metadata": {},
   "outputs": [],
   "source": [
    "# working but with warning:\n",
    "# [ error ] ofTexture: getTextureData(): texture has not been allocated\n",
    "fn = \"4k.mp4\"\n",
    "client.send_message(\"/player/a/load\", [fn, 0, 3, 1])\n",
    "client.send_message(\"/player/a/play\", 1)\n"
   ]
  },
  {
   "cell_type": "code",
   "execution_count": null,
   "metadata": {},
   "outputs": [],
   "source": []
  }
 ],
 "metadata": {
  "kernelspec": {
   "display_name": "Python 3",
   "language": "python",
   "name": "python3"
  },
  "language_info": {
   "codemirror_mode": {
    "name": "ipython",
    "version": 3
   },
   "file_extension": ".py",
   "mimetype": "text/x-python",
   "name": "python",
   "nbconvert_exporter": "python",
   "pygments_lexer": "ipython3",
   "version": "3.7.4"
  }
 },
 "nbformat": 4,
 "nbformat_minor": 2
}
