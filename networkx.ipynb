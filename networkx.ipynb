{
 "cells": [
  {
   "cell_type": "code",
   "execution_count": 1,
   "metadata": {},
   "outputs": [],
   "source": [
    "from pythonosc import udp_client\n",
    "import time\n",
    "localhost = \"127.0.0.1\"\n",
    "port = 8000\n",
    "\n",
    "client = udp_client.SimpleUDPClient(localhost, port)\n",
    "# working\n",
    "gen_shader = 'shaders/hypnotic_rings.frag'\n",
    "vert_shader = 'shaders/shader.vert'\n",
    "client.send_message(\"/shader/0/load\", [vert_shader, gen_shader]) # proj_root + '/kaleidoscope.frag'])\n",
    "client.send_message(\"/shader/start\", True)\n",
    "client.send_message(\"/shader/0/is_active\", True)\n",
    "for i in range(4):\n",
    "    client.send_message(\"/shader/0/param\", [i, 0.8])\n",
    "    time.sleep(.2)"
   ]
  },
  {
   "cell_type": "code",
   "execution_count": 46,
   "metadata": {},
   "outputs": [],
   "source": [
    "\n",
    "# client.send_message(\"/scene/reload3DConfig\", [i, 0.8])\n",
    "client.send_message(\"/shader/420/load\", [vert_shader, gen_shader]) # proj_root + '/kaleidoscope.frag'])"
   ]
  },
  {
   "cell_type": "code",
   "execution_count": 23,
   "metadata": {},
   "outputs": [],
   "source": [
    "\n",
    "gen_shader = 'shaders/hypnotic_rings.frag'\n",
    "vert_shader = 'shaders/shader.vert'\n",
    "client.send_message(\"/shader/420/load\", [vert_shader, gen_shader]) # proj_root + '/kaleidoscope.frag'])\n",
    "#client.send_message(\"/shader/start\", True)\n",
    "#client.send_message(\"/shader/420/is_active\", True)\n",
    "#for i in range(4):\n",
    "#    client.send_message(\"/shader/420/load\", [i, 0.8])\n",
    "#    time.sleep(.2)"
   ]
  },
  {
   "cell_type": "code",
   "execution_count": null,
   "metadata": {},
   "outputs": [],
   "source": [
    "# Working:\n",
    "one_input = 'shaders/mirrorX.frag'\n",
    "client.send_message(\"/shader/1/load\", [vert_shader, one_input])\n",
    "client.send_message(\"/shader/start\", True)\n",
    "client.send_message(\"/shader/1/is_active\", True)\n",
    "for i in range(4):\n",
    "    client.send_message(\"/shader/1/param\", [i, 0.8])\n",
    "    time.sleep(.2)"
   ]
  },
  {
   "cell_type": "code",
   "execution_count": null,
   "metadata": {},
   "outputs": [],
   "source": [
    "two_input = 'shaders/wipe.frag'\n",
    "client.send_message(\"/shader/2/load\", [vert_shader, two_input])\n",
    "client.send_message(\"/shader/start\", True)\n",
    "client.send_message(\"/shader/2/is_active\", True)\n",
    "for i in range(4):\n",
    "    client.send_message(\"/shader/2/param\", [i, 100])\n",
    "    time.sleep(.2)"
   ]
  },
  {
   "cell_type": "code",
   "execution_count": null,
   "metadata": {},
   "outputs": [],
   "source": [
    "\n",
    "\n",
    "one_input3 = 'shaders/invert.frag'\n",
    "client.send_message(\"/shader/3/load\", [vert_shader, one_input3])\n",
    "client.send_message(\"/shader/start\", True)\n",
    "client.send_message(\"/shader/3/is_active\", True)\n",
    "for i in range(4):\n",
    "    client.send_message(\"/shader/3/param\", [i, 0.4])\n",
    "    time.sleep(.3)"
   ]
  },
  {
   "cell_type": "code",
   "execution_count": null,
   "metadata": {},
   "outputs": [],
   "source": [
    "# working but with warning:\n",
    "# [ error ] ofTexture: getTextureData(): texture has not been allocated\n",
    "# fn = \"4k.mp4\"\n",
    "# client.send_message(\"/player/a/load\", [fn, 0, 3, 1])\n",
    "# client.send_message(\"/player/a/play\", 1)\n"
   ]
  },
  {
   "cell_type": "code",
   "execution_count": null,
   "metadata": {},
   "outputs": [],
   "source": [
    "\n",
    "\n",
    "one_input3 = 'shaders/invert.frag'\n",
    "client.send_message(\"/shader/3/load\", [vert_shader, one_input3])\n",
    "client.send_message(\"/shader/start\", True)\n",
    "client.send_message(\"/shader/3/is_active\", True)\n",
    "for i in range(4):\n",
    "    client.send_message(\"/shader/3/param\", [i, 0.4])\n",
    "    time.sleep(.3)"
   ]
  },
  {
   "cell_type": "code",
   "execution_count": null,
   "metadata": {
    "scrolled": false
   },
   "outputs": [],
   "source": [
    "import networkx as nx\n",
    "# you also need to install pygraphviz for this to work\n",
    "dotFile = open('out.dot')\n",
    "gm = nx.DiGraph(gm)\n",
    "g = nx.drawing.nx_agraph.read_dot(dotFile)\n",
    "dag = g.to_directed()\n",
    "sort_iterator = nx.algorithms.dag.topological_sort(g)\n",
    "# the below gives a tuple of the nodes's ID (as written in the file) and all of the metadata of the node\n",
    "# i.e. label, type, filename, whatever.\n",
    "dependency_sorted = [(k, dag.nodes[k]) for k in sort_iterator]\n",
    "dependency_sorted"
   ]
  },
  {
   "cell_type": "code",
   "execution_count": 304,
   "metadata": {},
   "outputs": [
    {
     "data": {
      "text/plain": [
       "['Gopher',\n",
       " 'Gopher',\n",
       " 'Gopher',\n",
       " 'Gopher',\n",
       " 'HypRings',\n",
       " 'HypRings',\n",
       " 'HypRings',\n",
       " 'Blur',\n",
       " 'HypRings',\n",
       " 'HypRings',\n",
       " 'HypRings',\n",
       " 'HypRings',\n",
       " 'HypRings',\n",
       " 'HypRings',\n",
       " 'HypRings',\n",
       " 'Grayscale',\n",
       " 'Luma4']"
      ]
     },
     "execution_count": 304,
     "metadata": {},
     "output_type": "execute_result"
    }
   ],
   "source": [
    "l"
   ]
  },
  {
   "cell_type": "code",
   "execution_count": 472,
   "metadata": {
    "scrolled": true
   },
   "outputs": [
    {
     "name": "stdout",
     "output_type": "stream",
     "text": [
      "Preacher -> Colorizer\n",
      "Colorizer -> Strobe\n",
      "Strobe -> Grayscale2\n",
      "HypRings -> MirrorX\n",
      "MirrorX -> Multiply\n",
      "Multiply -> Chroma\n",
      "HypRings -> Chroma\n",
      "Chroma -> OtherMix\n",
      "HypRings -> OtherMix\n",
      "OtherMix -> Blur\n",
      "Blur -> Grayscale\n",
      "Grayscale -> Invert\n",
      "Invert -> Luma\n",
      "HypRings -> Luma\n",
      "Luma -> Blur2\n",
      "Gopher -> Luma2\n",
      "Gopher -> Luma2\n",
      "Luma2 -> Chroma2\n",
      "Salesman -> Chroma2\n",
      "Chroma2 -> Chroma3\n",
      "Ribald -> Chroma3\n",
      "Chroma3 -> Chroma4\n",
      "Blur2 -> Chroma4\n",
      "Chroma4 -> Luma3\n",
      "Grayscale2 -> Luma3\n",
      "Luma3 -> Luma4\n",
      "Preacher -> Luma4\n",
      "Luma4 -> DISPLAY\n"
     ]
    }
   ],
   "source": [
    "from dataclasses import dataclass\n",
    "\n",
    "l=[]\n",
    "@dataclass\n",
    "class Node:\n",
    "    id: str\n",
    "    inputs: int\n",
    "inputs = [Node('0', 0) , Node('3', 1) , Node('4', 0) , Node('1', 1) , Node('2', 2)]\n",
    "for n in nonline:\n",
    "    if get_arity(n) > 0:\n",
    "        print(f\"{l.pop()} -> {n}\")\n",
    "    if get_arity(n) > 1:\n",
    "        print(f\"{l.pop()} -> {n}\")\n",
    "    l.extend([n]*gm.out_degree[n])"
   ]
  },
  {
   "cell_type": "code",
   "execution_count": 450,
   "metadata": {},
   "outputs": [],
   "source": [
    "# gm = nx.DiGraph(gm)\n",
    "ns = list(reversed(list(nx.topological_sort(nx.line_graph(gm)))))\n",
    "#ns = list(nx.topological_sort(gm.edges))\n",
    "#[nx.line_graph?\n",
    "list(nx.line_graph(gm))\n",
    "ns = list(map(lambda x: x[0], list(nx.topological_sort(nx.algorithms.dag.transitive_reduction(nx.line_graph(gm))))))"
   ]
  },
  {
   "cell_type": "code",
   "execution_count": 359,
   "metadata": {},
   "outputs": [],
   "source": [
    "#nx.dag.dag_to_branching(gm)\n",
    "rawgm = nx.drawing.nx_agraph.read_dot('multiOutMoreInputs.dot')\n",
    "rawgm.to_directed_class?\n",
    "rawgm = nx.drawing.nx_agraph.read_dot('multiOutMoreInputs.dot')\n",
    "gm = rawgm.to_directed()\n",
    "sort_iterator = nx.algorithms.dag.topological_sort(gm)\n",
    "# the below gives a tuple of the nodes's ID (as written in the file) and all of the metadata of the node\n",
    "# i.e. label, type, filename, whatever.\n",
    "# topgm = [(k, gm.nodes[k]) for k in sort_iterator]\n",
    "\n",
    "@dataclass\n",
    "class Node:\n",
    "    id: str\n",
    "    inputs: int\n",
    "    _metadata: dict = None"
   ]
  },
  {
   "cell_type": "code",
   "execution_count": 84,
   "metadata": {},
   "outputs": [
    {
     "name": "stdout",
     "output_type": "stream",
     "text": [
      "[\n",
      "    {\n",
      "        \"file\": \"shaders/hypnotic_rings.frag\",\n",
      "        \"arity\": 1,\n",
      "        \"id\": \"hypnotic_rings\",\n",
      "        \"outEdges\": 1,\n",
      "        \"inTextures\": []\n",
      "    },\n",
      "    {\n",
      "        \"file\": \"shaders/wobble.frag\",\n",
      "        \"arity\": 1,\n",
      "        \"id\": \"wobble\",\n",
      "        \"outEdges\": 1,\n",
      "        \"inTextures\": [\n",
      "            \"hypnotic_rings\"\n",
      "        ]\n",
      "    },\n",
      "    {\n",
      "        \"file\": \"shaders/mirrorX.frag\",\n",
      "        \"arity\": 1,\n",
      "        \"id\": \"mirrorX\",\n",
      "        \"outEdges\": 1,\n",
      "        \"inTextures\": [\n",
      "            \"wobble\"\n",
      "        ]\n",
      "    },\n",
      "    {\n",
      "        \"file\": \"shaders/line.frag\",\n",
      "        \"arity\": 1,\n",
      "        \"id\": \"line\",\n",
      "        \"outEdges\": 1,\n",
      "        \"inTextures\": []\n",
      "    },\n",
      "    {\n",
      "        \"file\": \"shaders/wipe.frag\",\n",
      "        \"arity\": 1,\n",
      "        \"id\": \"wipe\",\n",
      "        \"outEdges\": 1,\n",
      "        \"inTextures\": [\n",
      "            \"mirrorX\",\n",
      "            \"line\"\n",
      "        ]\n",
      "    }\n",
      "]\n"
     ]
    }
   ],
   "source": [
    "import networkx as nx\n",
    "import json\n",
    "\n",
    "def get_arity(s): \n",
    "    if s.lower().startswith( ('chroma', 'luma', 'othermix') ) :\n",
    "        return 2\n",
    "    elif s in {'HypRings', 'Preacher', 'Ribald', 'Gopher', 'Salesman'}:\n",
    "        return 0\n",
    "    else: return 1\n",
    "\n",
    "g = nx.drawing.nx_agraph.read_dot('simple.dot')\n",
    "gm = nx.DiGraph(g)\n",
    "lexi = list(nx.topological_sort(nx.line_graph(gm)))\n",
    "ns = []\n",
    "for x in lexi:\n",
    "    if not (x[0] in ns):\n",
    "        ns.append(x[0])\n",
    "# ns = list(map(lambda x: x[0], lexi))\n",
    "ds = [ {\"file\" : f\"shaders/{k}.frag\",\n",
    "         \"arity\" : get_arity(k), # unused\n",
    "         \"id\" : k,\n",
    "         \"outEdges\" : len(gm[k]), # unused\n",
    "         \"inTextures\" :  list(gm.predecessors(k))\n",
    "        }\n",
    " for k in ns]\n",
    "\n",
    "print(json.dumps(ds, indent=4))"
   ]
  },
  {
   "cell_type": "code",
   "execution_count": 3,
   "metadata": {},
   "outputs": [
    {
     "name": "stdout",
     "output_type": "stream",
     "text": [
      "attmpting: <function get_func.<locals>.<lambda> at 0x11446ba70> on [] of <class 'dict'>\n",
      "attmpting: <built-in function sin> on [2] of <class 'int'>\n",
      "attmpting: <built-in method random of Random object at 0x7fda3481e020> on [] of <class 'dict'>\n",
      "attmpting: <built-in function mul> on [0.9092974268256817, 0.0034674939181370545] of <class 'float'>\n",
      "attmpting: <built-in function abs> on [0.0031529832972957248] of <class 'float'>\n",
      "attmpting: <function get_func.<locals>.<lambda> at 0x114499a70> on [] of <class 'dict'>\n",
      "attmpting: <built-in function add> on [0.0031529832972957248, 3] of <class 'float'>\n",
      "attmpting: <function get_func.<locals>.<lambda> at 0x11446bdd0> on [3.0031529832972956] of <class 'float'>\n"
     ]
    },
    {
     "data": {
      "text/plain": [
       "(3.0031529832972956,)"
      ]
     },
     "execution_count": 3,
     "metadata": {},
     "output_type": "execute_result"
    }
   ],
   "source": [
    "import random, math, operator\n",
    "import networkx as nx\n",
    "from functools import partial\n",
    "def get_func(id, G):\n",
    "    d = G.nodes[id]\n",
    "    s = id.lower()\n",
    "    if d:\n",
    "        if 'value' in d:\n",
    "            func = lambda: d['value']\n",
    "        if d.get('finish'):\n",
    "            func = lambda *x: x\n",
    "    elif hasattr(operator, s):\n",
    "        func = getattr(operator, s)\n",
    "    elif hasattr(math, s):\n",
    "        func = getattr(math, s)\n",
    "    elif hasattr(random, s):\n",
    "        func = getattr(random, s)\n",
    "    else:\n",
    "        print(f\"{id} complains. {d}\")\n",
    "    return func\n",
    "storage = []\n",
    "def handle(G, RG, n):\n",
    "    func = get_func(n, G)\n",
    "    incoming = RG[n]\n",
    "    results = list(map(partial(handle, G, RG), incoming))\n",
    "    print(f\"attmpting: {func} on {results} of {type({} if not results else results[0])}\")\n",
    "    return func(*results)\n",
    "G = nx.DiGraph()\n",
    "G.add_nodes_from([('Add', {}), ('Mul', {}), ('Abs', {}), ('Sin', {}), \n",
    "                  ('Const1', dict(value=2)), ('Const2', dict(value=3)), ('Random', {}),\n",
    "                  (\"u_x0\", dict(finish=True))])\n",
    "G.add_edges_from([('Const1', 'Sin'), ('Mul', 'Abs'), ('Const2', 'Add'), ('Random', 'Mul'),\n",
    "    ('Sin', 'Mul'), ('Abs', 'Add'), ('Add', 'u_x0')])\n",
    "RG = G.reverse()\n",
    "handle(G, RG, 'u_x0')"
   ]
  },
  {
   "cell_type": "code",
   "execution_count": 2,
   "metadata": {},
   "outputs": [
    {
     "name": "stdout",
     "output_type": "stream",
     "text": [
      "[\n",
      "    {\n",
      "        \"file\": \"shaders/hypnotic_rings.frag\",\n",
      "        \"arity\": 1,\n",
      "        \"id\": \"hypnotic_rings\",\n",
      "        \"outEdges\": 1,\n",
      "        \"inTextures\": []\n",
      "    },\n",
      "    {\n",
      "        \"file\": \"shaders/wobble.frag\",\n",
      "        \"arity\": 1,\n",
      "        \"id\": \"wobble\",\n",
      "        \"outEdges\": 1,\n",
      "        \"inTextures\": [\n",
      "            \"hypnotic_rings\"\n",
      "        ]\n",
      "    },\n",
      "    {\n",
      "        \"file\": \"shaders/mirrorX.frag\",\n",
      "        \"arity\": 1,\n",
      "        \"id\": \"mirrorX\",\n",
      "        \"outEdges\": 1,\n",
      "        \"inTextures\": [\n",
      "            \"wobble\"\n",
      "        ]\n",
      "    },\n",
      "    {\n",
      "        \"file\": \"shaders/line.frag\",\n",
      "        \"arity\": 1,\n",
      "        \"id\": \"line\",\n",
      "        \"outEdges\": 1,\n",
      "        \"inTextures\": []\n",
      "    },\n",
      "    {\n",
      "        \"file\": \"shaders/wipe.frag\",\n",
      "        \"arity\": 1,\n",
      "        \"id\": \"wipe\",\n",
      "        \"outEdges\": 1,\n",
      "        \"inTextures\": [\n",
      "            \"mirrorX\",\n",
      "            \"line\"\n",
      "        ]\n",
      "    }\n",
      "]\n"
     ]
    }
   ],
   "source": []
  },
  {
   "cell_type": "code",
   "execution_count": null,
   "metadata": {},
   "outputs": [],
   "source": [
    "g = nx."
   ]
  },
  {
   "cell_type": "code",
   "execution_count": 502,
   "metadata": {},
   "outputs": [
    {
     "data": {
      "text/plain": [
       "['Luma3', 'OtherMix']"
      ]
     },
     "execution_count": 502,
     "metadata": {},
     "output_type": "execute_result"
    }
   ],
   "source": [
    "g = gm.in_edges('Luma4')\n",
    "list(gm.predecessors('Luma4'))"
   ]
  },
  {
   "cell_type": "code",
   "execution_count": 479,
   "metadata": {},
   "outputs": [
    {
     "data": {
      "text/plain": [
       "2"
      ]
     },
     "execution_count": 479,
     "metadata": {},
     "output_type": "execute_result"
    }
   ],
   "source": [
    "lexi\n",
    "av = gm['Gopher']\n",
    "len(av)\n",
    "if (len(av))\n",
    "edgeMap"
   ]
  },
  {
   "cell_type": "code",
   "execution_count": 340,
   "metadata": {},
   "outputs": [],
   "source": [
    "ns = list(nx.lexicographical_topological_sort(gm))"
   ]
  },
  {
   "cell_type": "code",
   "execution_count": 266,
   "metadata": {},
   "outputs": [],
   "source": [
    "edgetop = list(map(lambda x: [x[0]], nx.topological_sort(nx.line_graph(gm))))\n",
    "import itertools\n",
    "# print(\"\\n\".join(map(lambda x: \"->\".join(map(str, x[:2])), nx.topological_sort(nx.line_graph(gm)))))\n",
    "ns = [Node(k, get_arity(k)) for k in itertools.chain(*edgetop)]"
   ]
  },
  {
   "cell_type": "code",
   "execution_count": 274,
   "metadata": {},
   "outputs": [],
   "source": [
    "edgetop = list(map(lambda x: x[0], nx.topological_sort(nx.line_graph(gm))))"
   ]
  },
  {
   "cell_type": "code",
   "execution_count": 312,
   "metadata": {},
   "outputs": [],
   "source": [
    "all_ = (nx.all_topological_sorts(nx.line_graph(gm)))"
   ]
  },
  {
   "cell_type": "code",
   "execution_count": 335,
   "metadata": {},
   "outputs": [
    {
     "data": {
      "text/plain": [
       "['DISPLAY',\n",
       " 'Luma4',\n",
       " 'Luma3',\n",
       " 'Chroma4',\n",
       " 'Chroma3',\n",
       " 'Chroma2',\n",
       " 'Luma2',\n",
       " 'Gopher',\n",
       " 'Salesman',\n",
       " 'Ribald',\n",
       " 'Blur2',\n",
       " 'Luma',\n",
       " 'Invert',\n",
       " 'Grayscale',\n",
       " 'Blur',\n",
       " 'OtherMix',\n",
       " 'Chroma',\n",
       " 'Multiply',\n",
       " 'MirrorX',\n",
       " 'HypRings',\n",
       " 'Grayscale2',\n",
       " 'Strobe',\n",
       " 'Colorizer',\n",
       " 'Preacher']"
      ]
     },
     "execution_count": 335,
     "metadata": {},
     "output_type": "execute_result"
    }
   ],
   "source": [
    "n = next(all_)\n",
    "list(reversed(list(nx.topological_sort(gm))))"
   ]
  },
  {
   "cell_type": "code",
   "execution_count": 287,
   "metadata": {},
   "outputs": [],
   "source": [
    "ns = list(nx.topological_sort(nx.transitive_reduction(gm)))"
   ]
  },
  {
   "cell_type": "code",
   "execution_count": 282,
   "metadata": {},
   "outputs": [
    {
     "data": {
      "text/plain": [
       "['Grayscale->Invert',\n",
       " 'Blur->Chroma4',\n",
       " 'MirrorX->Multiply',\n",
       " 'Strobe->Grayscale2',\n",
       " 'Colorizer->OtherMix',\n",
       " 'Gopher->Luma2',\n",
       " 'Gopher->Chroma2',\n",
       " 'Salesman->Chroma2',\n",
       " 'Chroma2->Chroma3',\n",
       " 'Ribald->Chroma3',\n",
       " 'Chroma3->Chroma4',\n",
       " 'Luma2->Luma3',\n",
       " 'Chroma4->Luma3',\n",
       " 'Chroma->OtherMix',\n",
       " 'Luma3->Luma4',\n",
       " 'OtherMix->Luma4',\n",
       " 'HypRings->MirrorX',\n",
       " 'HypRings->Grayscale',\n",
       " 'HypRings->Blur',\n",
       " 'Invert->Luma',\n",
       " 'Multiply->Chroma',\n",
       " 'Preacher->Strobe',\n",
       " 'Preacher->Colorizer',\n",
       " 'Grayscale2->Luma',\n",
       " 'Luma->Blur2',\n",
       " 'Blur2->Luma2',\n",
       " 'Luma4->DISPLAY']"
      ]
     },
     "execution_count": 282,
     "metadata": {},
     "output_type": "execute_result"
    }
   ],
   "source": [
    "list(map('->'.join, (nx.transitive_reduction(gm).edges)))\n",
    "# list(nx.all_topological_sorts(nx.line_graph(gm)))"
   ]
  }
 ],
 "metadata": {
  "kernelspec": {
   "display_name": "Python 3",
   "language": "python",
   "name": "python3"
  },
  "language_info": {
   "codemirror_mode": {
    "name": "ipython",
    "version": 3
   },
   "file_extension": ".py",
   "mimetype": "text/x-python",
   "name": "python",
   "nbconvert_exporter": "python",
   "pygments_lexer": "ipython3",
   "version": "3.7.4"
  }
 },
 "nbformat": 4,
 "nbformat_minor": 2
}
